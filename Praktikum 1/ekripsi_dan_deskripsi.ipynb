{
 "cells": [
  {
   "cell_type": "code",
   "execution_count": 3,
   "metadata": {},
   "outputs": [],
   "source": [
    "from Crypto.Cipher import AES\n",
    "from Crypto.Random import get_random_bytes\n",
    "import base64"
   ]
  },
  {
   "cell_type": "code",
   "execution_count": 4,
   "metadata": {},
   "outputs": [],
   "source": [
    "# Fungsi untuk enkripsi\n",
    "def encrypt(plan_text,key) :\n",
    "  cipher = AES.new(key,AES.MODE_EAX)\n",
    "  nonce = cipher.nonce\n",
    "  ciphertext, tag = cipher.encrypt_and_digest(plain_text.encode('utf-8'))\n",
    "  return base64.b64encode(nonce + ciphertext).decode('utf-8')\n"
   ]
  },
  {
   "cell_type": "code",
   "execution_count": 5,
   "metadata": {},
   "outputs": [],
   "source": [
    "# Fungsi untuk deskripsi\n",
    "def decrypt(cipher_text,key):\n",
    "  raw_data = base64.b64decode(cipher_text)\n",
    "  nonce = raw_data[:16]\n",
    "  ciphertext = raw_data[16:]\n",
    "  cipher = AES.new(key,AES.MODE_EAX, nonce=nonce)\n",
    "  plain_text = cipher.decrypt(ciphertext)\n",
    "  return plain_text.decode('utf-8')"
   ]
  },
  {
   "cell_type": "code",
   "execution_count": 6,
   "metadata": {},
   "outputs": [
    {
     "data": {
      "text/plain": [
       "b'\\xfb<8\\xd12\\x19\\x81x\\xcb<U\\xa8b[P\\x07\\x07h\\x17R\\xaf5\"q\\x10\\x16\\xa7\\n\\xa5\\xa6]\\x9a'"
      ]
     },
     "execution_count": 6,
     "metadata": {},
     "output_type": "execute_result"
    }
   ],
   "source": [
    "# Kunci 256-bit\n",
    "key = get_random_bytes(32)\n",
    "key"
   ]
  },
  {
   "cell_type": "code",
   "execution_count": 8,
   "metadata": {},
   "outputs": [
    {
     "data": {
      "text/plain": [
       "'pesan ini rahasia'"
      ]
     },
     "execution_count": 8,
     "metadata": {},
     "output_type": "execute_result"
    }
   ],
   "source": [
    "# Text yang akan dienkripsi\n",
    "plain_text = \"pesan ini rahasia\"\n",
    "plain_text"
   ]
  },
  {
   "cell_type": "code",
   "execution_count": 11,
   "metadata": {},
   "outputs": [
    {
     "name": "stdout",
     "output_type": "stream",
     "text": [
      "Encrypted: bZYO1W16l3SnEdf9EhbNb1wUVy3Vl7Yamwh0AaINuNKd\n"
     ]
    }
   ],
   "source": [
    "# enkripsi\n",
    "encrypted_text = encrypt(plain_text,key)\n",
    "print(f\"Encrypted: {encrypted_text}\")"
   ]
  },
  {
   "cell_type": "code",
   "execution_count": 12,
   "metadata": {},
   "outputs": [
    {
     "name": "stdout",
     "output_type": "stream",
     "text": [
      "Decrypted: pesan ini rahasia\n"
     ]
    }
   ],
   "source": [
    "# deskripsi\n",
    "decrypted_text = decrypt(encrypted_text, key)\n",
    "print(f\"Decrypted: {decrypted_text}\")"
   ]
  },
  {
   "cell_type": "code",
   "execution_count": null,
   "metadata": {},
   "outputs": [],
   "source": []
  }
 ],
 "metadata": {
  "kernelspec": {
   "display_name": "Python 3",
   "language": "python",
   "name": "python3"
  },
  "language_info": {
   "codemirror_mode": {
    "name": "ipython",
    "version": 3
   },
   "file_extension": ".py",
   "mimetype": "text/x-python",
   "name": "python",
   "nbconvert_exporter": "python",
   "pygments_lexer": "ipython3",
   "version": "3.11.2"
  }
 },
 "nbformat": 4,
 "nbformat_minor": 2
}
